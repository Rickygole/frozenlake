!pip install torch

       !pip install gymnasium
"import gymnasium as gym\n",
        "import numpy as np\n",
        "\n",
        "env = gym.make(\"FrozenLake-v1\", is_slippery=False)\n",
        "q_table = np.zeros((env.observation_space.n, env.action_space.n))\n",
        "\n",
        "alpha = 0.8\n",
        "gamma = 0.95\n",
        "epsilon = 0.1\n",
        "episodes = 1000\n",
        "\n",
        "for episode in range(episodes):\n",
        "    state, _ = env.reset()  # unpacking two values from reset\n",
        "    done = False\n",
        "    while not done:\n",
        "        if np.random.uniform(0, 1) < epsilon:\n",
        "            action = env.action_space.sample()\n",
        "        else:\n",
        "            action = np.argmax(q_table[state])\n",
        "        next_state, reward, done, truncated, _ = env.step(action)\n",
        "        done = done or truncated  # Ensure proper termination\n",
        "        q_table[state, action] = q_table[state, action] + alpha * (\n",
        "            reward + gamma * np.max(q_table[next_state]) - q_table[state, action]\n",
        "        )\n",
        "        state = next_state\n"
      ],
      env = gym.make("FrozenLake-v1", is_slippery=False, render_mode="human")

